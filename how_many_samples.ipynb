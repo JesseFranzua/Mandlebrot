{
 "cells": [
  {
   "cell_type": "code",
   "execution_count": 1,
   "metadata": {},
   "outputs": [],
   "source": [
    "import os\n",
    "import numpy as np \n",
    "from joblib import Parallel, delayed"
   ]
  },
  {
   "cell_type": "code",
   "execution_count": 2,
   "metadata": {},
   "outputs": [],
   "source": [
    "def check_inside_mandlebrot_bernoullii(i, c):\n",
    "    z = 0 + 0j\n",
    "    for i in range(i):\n",
    "        z = np.square(z) + c\n",
    "        if np.abs(z) > 2:\n",
    "            return 0\n",
    "    return 1\n",
    "\n",
    "\n",
    "def check_inside_mandlebrot(i, c):\n",
    "    z = 0 + 0j\n",
    "    for i in range(i):\n",
    "        z = np.square(z) + c\n",
    "        if np.abs(z) > 2:\n",
    "            return False\n",
    "    return True\n",
    "\n",
    "\n",
    "def mandlebrot_area(i, s, sampling_function):\n",
    "    random_complex_numbers = sampling_function(s)\n",
    "\n",
    "    in_mandlebrot = 0\n",
    " \n",
    "    for z in random_complex_numbers:\n",
    "        if check_inside_mandlebrot(i, z):\n",
    "            in_mandlebrot += 1\n",
    "\n",
    "    area = in_mandlebrot / s * area_box\n",
    "\n",
    "    return area\n",
    "\n",
    "\n",
    "def uniform_samples(n):\n",
    "    real = np.random.uniform(r_min, r_max, size=n)\n",
    "    imaginary = np.random.uniform(i_min, i_max, size=n) * 1j\n",
    "    random_complex_numbers = real + imaginary\n",
    "    return random_complex_numbers\n"
   ]
  },
  {
   "cell_type": "code",
   "execution_count": 3,
   "metadata": {},
   "outputs": [],
   "source": [
    "r_min = -2\n",
    "r_max = 0.46\n",
    "i_min = -1.12\n",
    "i_max = 1.12\n",
    "area_box = (r_max - r_min) * (i_max - i_min)\n",
    "default_i = 50"
   ]
  },
  {
   "cell_type": "code",
   "execution_count": 15,
   "metadata": {},
   "outputs": [
    {
     "name": "stdout",
     "output_type": "stream",
     "text": [
      "estimated area is 1.5522371632932532\n",
      "the std on this estimation is lower than 0.1 with 99.9% confidence\n",
      "6571 samples needed\n"
     ]
    }
   ],
   "source": [
    "# maximun standard deviation \n",
    "max_std = 0.1\n",
    "\n",
    "# maximum standard deviation of the probability that a point is in the mandlebrot set\n",
    "d = max_std / area_box\n",
    "\n",
    "# relates to 99.9 % that the standard deviation is indeed below that maximun\n",
    "z_value = 3.27\n",
    "\n",
    "# keep track of how many samples have been drawn\n",
    "k = 0\n",
    "\n",
    "# draw 100 random variables\n",
    "points = uniform_samples(100)\n",
    "values = np.zeros(100)\n",
    "for i, p in enumerate(points):\n",
    "    xi = check_inside_mandlebrot_bernoullii(default_i, p)\n",
    "    values[i] = xi\n",
    "k += 100\n",
    "\n",
    "# compute the sample mean and sample standard deviation\n",
    "sample_mean = values.mean()\n",
    "sample_var = np.square(values - sample_mean).sum() / (len(values) - 1)\n",
    "sample_std = np.sqrt(sample_var)\n",
    "\n",
    "# draw until the sample standard deviation is down to an acceptable level\n",
    "while z_value * sample_std / np.sqrt(k) > d:\n",
    "    # add an extra random variable\n",
    "    point = uniform_samples(1)\n",
    "    xi = check_inside_mandlebrot_bernoullii(default_i, point)\n",
    "\n",
    "    # recalculate the mean and variance\n",
    "    new_sample_mean = sample_mean + (xi - sample_mean) / (k + 1)\n",
    "    sample_var = (1 - 1 / k) * sample_var + (k + 1) * (new_sample_mean - sample_mean) ** 2\n",
    "    sample_mean = new_sample_mean\n",
    "    sample_std = np.sqrt(sample_var)\n",
    "    k += 1\n",
    "\n",
    "print(f'estimated area is {sample_mean * area_box}')\n",
    "print(f'the std on this estimation is lower than {max_std} with 99.9% confidence')\n",
    "print(f'{k} samples needed')"
   ]
  },
  {
   "cell_type": "code",
   "execution_count": 21,
   "metadata": {},
   "outputs": [
    {
     "name": "stdout",
     "output_type": "stream",
     "text": [
      "estimated area is 1.59495119182747\n",
      "we are 95% confident that the real area theta lies between 1.4949511918274698 and 1.69495119182747\n",
      "881 samples needed\n"
     ]
    }
   ],
   "source": [
    "# interval  length\n",
    "l = 0.1\n",
    "\n",
    "# specify the confidence interval as (1 - alpha) * 100 = ci\n",
    "apha = 0.01\n",
    "\n",
    "# relates to 99.9% ci as Z_alpha/2 = .327\n",
    "z_value = 3.27\n",
    "\n",
    "# keep track of how many samples have been drawn\n",
    "k = 0\n",
    "\n",
    "# draw 100 random variables\n",
    "points = uniform_samples(100)\n",
    "values = np.zeros(100)\n",
    "for i, p in enumerate(points):\n",
    "    xi = check_inside_mandlebrot_bernoullii(default_i, p)\n",
    "    values[i] = xi\n",
    "k += 100\n",
    "\n",
    "# compute the sample mean and sample standard deviation\n",
    "sample_mean = values.mean()\n",
    "sample_var = np.square(values - sample_mean).sum() / (len(values) - 1)\n",
    "sample_std = np.sqrt(sample_var)\n",
    "\n",
    "# draw until the sample standard deviation is down to an acceptable level\n",
    "while 2 * z_value * sample_std / np.sqrt(k) > l:\n",
    "    # add an extra random variable\n",
    "    point = uniform_samples(1)\n",
    "    xi = check_inside_mandlebrot_bernoullii(default_i, point)\n",
    "\n",
    "    # recalculate the mean and variance\n",
    "    new_sample_mean = sample_mean + (xi - sample_mean) / (k + 1)\n",
    "    sample_var = (1 - 1 / k) * sample_var + (k + 1) * (new_sample_mean - sample_mean) ** 2\n",
    "    sample_mean = new_sample_mean\n",
    "    sample_std = np.sqrt(sample_var)\n",
    "    k += 1\n",
    "\n",
    "area = sample_mean * area_box\n",
    "\n",
    "print(f'estimated area is {area}')\n",
    "print(f'we are 95% confident that the real area theta lies between {area - l} and {area + l}')\n",
    "print(f'{k} samples needed')"
   ]
  },
  {
   "cell_type": "code",
   "execution_count": 24,
   "metadata": {},
   "outputs": [
    {
     "name": "stdout",
     "output_type": "stream",
     "text": [
      "mean 1.6356068104426793\n",
      "std 0.06772728132451791\n"
     ]
    }
   ],
   "source": [
    "n_iterations = 10\n",
    "n_cores = os.cpu_count()\n",
    "\n",
    "n_samples = k\n",
    "areas = Parallel(n_jobs=n_cores)(\n",
    "    delayed(mandlebrot_area)(default_i, n_samples, uniform_samples) for _ in range(n_iterations)\n",
    ")\n",
    "areas = np.array(areas)\n",
    "\n",
    "mean = areas.mean(axis=0)\n",
    "std = areas.std(axis=0)\n",
    "\n",
    "print(f'mean {mean}')\n",
    "print(f'std {std}')"
   ]
  },
  {
   "cell_type": "code",
   "execution_count": 7,
   "metadata": {},
   "outputs": [],
   "source": [
    "# how many samples - depends on the desired accuracy\n",
    "# how fast does it converse to that result, std wise\n",
    "# how many iterations - depends on the ?\n",
    "# how fast does it converge to that result, mean output wise\n"
   ]
  }
 ],
 "metadata": {
  "interpreter": {
   "hash": "b3ba2566441a7c06988d0923437866b63cedc61552a5af99d1f4fb67d367b25f"
  },
  "kernelspec": {
   "display_name": "Python 3.8.8 64-bit ('base': conda)",
   "language": "python",
   "name": "python3"
  },
  "language_info": {
   "codemirror_mode": {
    "name": "ipython",
    "version": 3
   },
   "file_extension": ".py",
   "mimetype": "text/x-python",
   "name": "python",
   "nbconvert_exporter": "python",
   "pygments_lexer": "ipython3",
   "version": "3.8.8"
  },
  "orig_nbformat": 4
 },
 "nbformat": 4,
 "nbformat_minor": 2
}
