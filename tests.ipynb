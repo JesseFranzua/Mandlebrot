{
 "cells": [
  {
   "cell_type": "code",
   "execution_count": 28,
   "id": "baf94090",
   "metadata": {},
   "outputs": [],
   "source": [
    "import numpy as np\n",
    "from scipy.stats import t,f\n",
    "\n",
    "def welch_test(data_X, data_Y):\n",
    "    '''H0: E(x)=E(y).\n",
    "    returns the p value of the test\n",
    "    if p > significance level, then H0 is accepted'''\n",
    "    mean_x = np.mean(data_X)\n",
    "    mean_y = np.mean(data_Y)\n",
    "    var_x = np.var(data_X)\n",
    "    var_y = np.var(data_Y)\n",
    "    n_x = len(data_X)\n",
    "    n_y = len(data_Y)\n",
    "    vn_x = var_x/n_x\n",
    "    vn_y = var_y/n_y\n",
    "    t_stat = (mean_x-mean_y)/np.sqrt(vn_x+vn_y)\n",
    "    df = (vn_x + vn_y)**2/(vn_x**2/(n_x-1)+(vn_y**2/(n_y-1)))\n",
    "    p_value = 2 * t.sf(np.abs(t_stat), df)\n",
    "    return p_value\n",
    "\n",
    "def f_test(data_X, data_Y):\n",
    "    '''H0: var(x)=var(y).\n",
    "    returns the p value of the test\n",
    "    if p > significance level, then H0 is accepted\n",
    "    this test is sensitive to data_x and data_y '''\n",
    "    var_x = np.var(data_X)\n",
    "    var_y = np.var(data_Y)\n",
    "    n_x = len(data_X)\n",
    "    n_y = len(data_Y)\n",
    "    if var_x/var_y > var_y/var_x:\n",
    "        f_stat = var_x/var_y\n",
    "        df1 = n_x - 1\n",
    "        df2 = n_y - 1\n",
    "    else:\n",
    "        f_stat = var_y/var_x\n",
    "        df1 = n_y - 1\n",
    "        df2 = n_x - 1\n",
    "    p_value = f.sf(f_stat, df1, df2)\n",
    "    return p_value"
   ]
  },
  {
   "cell_type": "code",
   "execution_count": 29,
   "id": "8bb867ac",
   "metadata": {},
   "outputs": [
    {
     "name": "stdout",
     "output_type": "stream",
     "text": [
      "the population mean of a and b are not equal with a p-value of: 0.0\n"
     ]
    }
   ],
   "source": [
    "rng = np.random.default_rng()\n",
    "pts = 100000\n",
    "a = rng.normal(0.51, 0.06, size=pts)#make two normal distributed data array's\n",
    "b = rng.normal(0.4, 0.05, size=pts)\n",
    "p = welch_test(a,b)#use the welch test to check if a and b have the same population mean\n",
    "alpha = 0.05#significance level\n",
    "if p > alpha:\n",
    "    print('the population mean of a and b are equal with a p-value of: ' + str(p))\n",
    "else:\n",
    "    print('the population mean of a and b are not equal with a p-value of: ' + str(p))  "
   ]
  },
  {
   "cell_type": "code",
   "execution_count": 30,
   "id": "34182c75",
   "metadata": {},
   "outputs": [
    {
     "name": "stdout",
     "output_type": "stream",
     "text": [
      "the variance of a and b are equal with a p-value of: 0.2593526008575355\n"
     ]
    }
   ],
   "source": [
    "rng = np.random.default_rng()\n",
    "pts = 100000\n",
    "a = rng.normal(0.51, 0.06, size=pts)#make two normal distributed data array's\n",
    "b = rng.normal(0.51, 0.06, size=pts)\n",
    "p = f_test(a,b)#Use f test to check if a and b have the same variance\n",
    "alpha = 0.05#significance level\n",
    "if p > alpha:\n",
    "    print('the variance of a and b are equal with a p-value of: ' + str(p))\n",
    "else:\n",
    "    print('the variance of a and b are not equal with a p-value of: ' + str(p)) "
   ]
  }
 ],
 "metadata": {
  "kernelspec": {
   "display_name": "Python 3 (ipykernel)",
   "language": "python",
   "name": "python3"
  },
  "language_info": {
   "codemirror_mode": {
    "name": "ipython",
    "version": 3
   },
   "file_extension": ".py",
   "mimetype": "text/x-python",
   "name": "python",
   "nbconvert_exporter": "python",
   "pygments_lexer": "ipython3",
   "version": "3.8.8"
  }
 },
 "nbformat": 4,
 "nbformat_minor": 5
}
