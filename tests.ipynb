{
 "cells": [
  {
   "cell_type": "code",
   "execution_count": 75,
   "id": "baf94090",
   "metadata": {},
   "outputs": [],
   "source": [
    "import numpy as np\n",
    "from scipy.stats import t\n",
    "\n",
    "def welch_test(data_X, data_y,conf):\n",
    "    '''H0: E(x)=E(y).\n",
    "    returns the p value of the test\n",
    "    if p < critical value, then H0 is accepted'''\n",
    "    mean_x = np.mean(data_X)\n",
    "    mean_y = np.mean(data_y)\n",
    "    var_x = np.var(data_X)\n",
    "    var_y = np.var(data_y)\n",
    "    n_x = len(data_X)\n",
    "    n_y = len(data_y)\n",
    "    p = (mean_x-mean_y)/np.sqrt(var_x/n_x+var_y/n_y)\n",
    "    df = (var_x/n_x + var_y/n_y)**2/(var_x**2/(n_x**2*(n_x-1))+(var_y**2/(n_y**2*(n_y-1))))\n",
    "    crit = t.ppf((conf+1)/2,df)\n",
    "    return np.abs(p),crit"
   ]
  },
  {
   "cell_type": "code",
   "execution_count": 120,
   "id": "8bb867ac",
   "metadata": {},
   "outputs": [
    {
     "name": "stdout",
     "output_type": "stream",
     "text": [
      "(0.6761496913930306, 1.9611520152052784)\n"
     ]
    }
   ],
   "source": [
    "rng = np.random.default_rng()\n",
    "pts = 1000\n",
    "a = rng.normal(0.1, 0.2, size=pts)\n",
    "b = rng.normal(0.1, 0.2, size=pts)\n",
    "p = welch_test(a,b,0.95)\n",
    "print(p)"
   ]
  }
 ],
 "metadata": {
  "kernelspec": {
   "display_name": "Python 3",
   "language": "python",
   "name": "python3"
  },
  "language_info": {
   "codemirror_mode": {
    "name": "ipython",
    "version": 3
   },
   "file_extension": ".py",
   "mimetype": "text/x-python",
   "name": "python",
   "nbconvert_exporter": "python",
   "pygments_lexer": "ipython3",
   "version": "3.8.8"
  }
 },
 "nbformat": 4,
 "nbformat_minor": 5
}
